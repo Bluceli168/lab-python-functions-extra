{
 "cells": [
  {
   "cell_type": "code",
   "execution_count": 10,
   "id": "caf0862b-93a4-447f-8c90-fc88bdc620e9",
   "metadata": {},
   "outputs": [
    {
     "name": "stdout",
     "output_type": "stream",
     "text": [
      "[1, 2, 3, 5, 8, 9]\n"
     ]
    }
   ],
   "source": [
    "def get_unique_value(lst):\n",
    "       return list(set(lst))\n",
    "\n",
    "print(get_unique_value([1,2,3,5,5,5,8,9]))"
   ]
  },
  {
   "cell_type": "code",
   "execution_count": 18,
   "id": "bccf1c85-4ff8-4a49-bf7b-794ea6ce632e",
   "metadata": {},
   "outputs": [
    {
     "name": "stdout",
     "output_type": "stream",
     "text": [
      "(2, 5)\n"
     ]
    }
   ],
   "source": [
    "def count_case(string):\n",
    "    uppercase_qty = sum(1 for letter in string if letter.isupper())\n",
    "    lowercase_qty = sum(1 for letter in string if letter.islower())\n",
    "    return (uppercase_qty,lowercase_qty)\n",
    "\n",
    "print(count_case('PellPll'))"
   ]
  },
  {
   "cell_type": "code",
   "execution_count": 12,
   "id": "588537d4-5894-4e92-a67c-a269ad1c09fe",
   "metadata": {},
   "outputs": [
    {
     "name": "stdout",
     "output_type": "stream",
     "text": [
      "4\n"
     ]
    }
   ],
   "source": [
    "import re\n",
    "def count_words(sentence):\n",
    "    cleaned_sentence = re.sub(r'[^\\w\\s]','',sentence)\n",
    "    words = cleaned_sentence.split()\n",
    "    return len(words)\n",
    "sentence = \"Hello,world! how's it going?\"\n",
    "print(count_words(sentence))"
   ]
  },
  {
   "cell_type": "code",
   "execution_count": 24,
   "id": "a864e6b2-8123-4f2d-87d7-762344f08649",
   "metadata": {},
   "outputs": [
    {
     "name": "stdout",
     "output_type": "stream",
     "text": [
      "0.625\n"
     ]
    }
   ],
   "source": [
    "def add(a,b):\n",
    "    return a+b\n",
    "\n",
    "def subtract(a,b):\n",
    "    return a-b\n",
    "\n",
    "def multiply(a,b):\n",
    "    return a*b\n",
    "\n",
    "def divide(a,b):\n",
    "    if b ==0:\n",
    "        return \"Error\"\n",
    "    return a/b\n",
    "\n",
    "def calculate(a,b,operator):\n",
    "    if operator =='+':\n",
    "        return add(a,b)\n",
    "    elif operator =='-':\n",
    "        return subtract(a,b)\n",
    "    elif operator =='*':\n",
    "        return multiply(a,b)\n",
    "    elif operator =='/':\n",
    "        return divide(a,b)\n",
    "    else:\n",
    "        return \"Error\"\n",
    "\n",
    "print(calculate(5,8,'/'))"
   ]
  },
  {
   "cell_type": "code",
   "execution_count": 34,
   "id": "e75879b1-30c1-4398-8355-13d68cc7acb8",
   "metadata": {},
   "outputs": [
    {
     "name": "stdout",
     "output_type": "stream",
     "text": [
      "18\n",
      "3\n",
      "100\n",
      "10.0\n",
      "18\n",
      "Error: Division by zero.\n"
     ]
    }
   ],
   "source": [
    "def add(*args):\n",
    "    result = 0\n",
    "    for num in args:\n",
    "        result += num\n",
    "    return result\n",
    "\n",
    "def subtract(*args):\n",
    "    result = args[0]\n",
    "    for num in args[1:]:\n",
    "        result -= num\n",
    "    return result\n",
    "\n",
    "def multiply(*args):\n",
    "    result = 1\n",
    "    for num in args:\n",
    "        result *= num\n",
    "    return result\n",
    "    \n",
    "def divide(*args):\n",
    "    result = args[0]\n",
    "    try:\n",
    "        for num in args[1:]:\n",
    "            result /= num\n",
    "    except ZeroDivisionError:\n",
    "        return \"Error: Division by zero.\"\n",
    "    return result\n",
    "\n",
    "def calculate(operator, *args):\n",
    "    if operator == '+':\n",
    "        return add(*args)\n",
    "    elif operator == '-':\n",
    "        return subtract(*args)\n",
    "    elif operator == '*':\n",
    "        return multiply(*args)\n",
    "    elif operator == '/':\n",
    "        return divide(*args)\n",
    "    else:\n",
    "        return \"Error: invalid operator.\"\n",
    "\n",
    "print(calculate('+',10,5,3))\n",
    "print(calculate('-',10,5,2))\n",
    "print(calculate('*',10,5,2))\n",
    "print(calculate('/',100,5,2))\n",
    "print(calculate('+',10,5,3))\n",
    "print(calculate('/',10,0))\n",
    "              "
   ]
  },
  {
   "cell_type": "code",
   "execution_count": 15,
   "id": "74e4a6e1-e7df-41c5-b54a-f65bf0901efd",
   "metadata": {},
   "outputs": [
    {
     "data": {
      "text/plain": [
       "7"
      ]
     },
     "execution_count": 15,
     "metadata": {},
     "output_type": "execute_result"
    }
   ],
   "source": [
    "from functions import word_count_f as wc\n",
    "wc(\"i don't like you !but not , all\")"
   ]
  },
  {
   "cell_type": "code",
   "execution_count": 38,
   "id": "e8aeb693-7160-4a4b-b5ae-53001b60f8ae",
   "metadata": {},
   "outputs": [
    {
     "data": {
      "text/plain": [
       "9"
      ]
     },
     "execution_count": 38,
     "metadata": {},
     "output_type": "execute_result"
    }
   ],
   "source": [
    "\n",
    "%reload_ext autoreload\n",
    "%autoreload 2 \n",
    "from functions import add_fab\n",
    "\n",
    "add_fab(4,5)\n"
   ]
  },
  {
   "cell_type": "code",
   "execution_count": 48,
   "id": "405fb620-e9c4-4b96-b34c-ecd89f7737c0",
   "metadata": {},
   "outputs": [
    {
     "data": {
      "text/plain": [
       "[0, 1, 1, 2, 3]"
      ]
     },
     "execution_count": 48,
     "metadata": {},
     "output_type": "execute_result"
    }
   ],
   "source": [
    "def fibonacci(n):\n",
    "    if n <=1:\n",
    "        return n\n",
    "    else:\n",
    "        return fibonacci(n-1) + fibonacci(n-2)\n",
    "\n",
    "def fibonacci_sequence(n):\n",
    "    sequence = []\n",
    "    for i in range(n+1):\n",
    "        sequence.append(fibonacci(i))\n",
    "    return sequence\n",
    "fibonacci_sequence(4)"
   ]
  },
  {
   "cell_type": "code",
   "execution_count": null,
   "id": "237b0b46-b474-454a-8776-66dab1809f49",
   "metadata": {},
   "outputs": [],
   "source": []
  }
 ],
 "metadata": {
  "kernelspec": {
   "display_name": "Python 3 (ipykernel)",
   "language": "python",
   "name": "python3"
  },
  "language_info": {
   "codemirror_mode": {
    "name": "ipython",
    "version": 3
   },
   "file_extension": ".py",
   "mimetype": "text/x-python",
   "name": "python",
   "nbconvert_exporter": "python",
   "pygments_lexer": "ipython3",
   "version": "3.12.4"
  }
 },
 "nbformat": 4,
 "nbformat_minor": 5
}
